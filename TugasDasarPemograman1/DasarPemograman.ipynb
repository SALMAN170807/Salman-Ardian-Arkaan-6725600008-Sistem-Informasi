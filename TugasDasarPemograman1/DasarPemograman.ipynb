{
  "nbformat": 4,
  "nbformat_minor": 0,
  "metadata": {
    "colab": {
      "provenance": [],
      "authorship_tag": "ABX9TyOA7taB4S/eDuGE7zhL5eSd",
      "include_colab_link": true
    },
    "kernelspec": {
      "name": "python3",
      "display_name": "Python 3"
    },
    "language_info": {
      "name": "python"
    }
  },
  "cells": [
    {
      "cell_type": "markdown",
      "metadata": {
        "id": "view-in-github",
        "colab_type": "text"
      },
      "source": [
        "<a href=\"https://colab.research.google.com/github/SALMAN170807/Salman-Ardian-Arkaan-6725600008-Sistem-Informasi/blob/main/TugasDasarPemograman1/DasarPemograman.ipynb\" target=\"_parent\"><img src=\"https://colab.research.google.com/assets/colab-badge.svg\" alt=\"Open In Colab\"/></a>"
      ]
    },
    {
      "cell_type": "code",
      "execution_count": null,
      "metadata": {
        "id": "OyrzMHEb-YC4"
      },
      "outputs": [],
      "source": [
        "# Program Penjumlahan Dua Bilangan\n",
        "\n",
        "# Meminta input dari pengguna\n",
        "bilangan1 = float(input(\"Masukkan bilangan pertama: \"))\n",
        "bilangan2 = float(input(\"Masukkan bilangan kedua: \"))\n",
        "\n",
        "# Menjumlahkan kedua bilangan\n",
        "hasil = bilangan1 + bilangan2\n",
        "\n",
        "# Menampilkan hasil\n",
        "print(\"Hasil penjumlahan dari\", bilangan1, \"+\", bilangan2, \"adalah:\", hasil)\n"
      ]
    },
    {
      "cell_type": "code",
      "source": [
        "# Program Mengecek Kecukupan Umur\n",
        "\n",
        "# Meminta input dari pengguna\n",
        "nama = input(\"Masukkan nama anda: \")\n",
        "umur = int(input(\"Masukkan umur anda: \"))\n",
        "\n",
        "# Mengecek apakah cukup umur\n",
        "if umur >= 18:\n",
        "    print(\"Halo\", nama + \"!\", \"Anda sudah cukup umur. ✅\")\n",
        "else:\n",
        "    print(\"Halo\", nama + \"!\", \"Anda belum cukup umur. ❌\")"
      ],
      "metadata": {
        "id": "ZyQ8iKG8-nOj"
      },
      "execution_count": null,
      "outputs": []
    },
    {
      "cell_type": "code",
      "source": [
        "# Program Menghitung Luas dan Keliling Persegi Panjang\n",
        "\n",
        "# Meminta input dari pengguna\n",
        "panjang = float(input(\"Masukkan panjang persegi panjang: \"))\n",
        "lebar = float(input(\"Masukkan lebar persegi panjang: \"))\n",
        "\n",
        "# Menghitung luas dan keliling\n",
        "luas = panjang * lebar\n",
        "keliling = 2 * (panjang + lebar)\n",
        "\n",
        "# Menampilkan hasil\n",
        "print(\"Luas persegi panjang adalah:\", luas)\n",
        "print(\"Keliling persegi panjang adalah:\", keliling)\n",
        "2"
      ],
      "metadata": {
        "id": "Z1Ovk-51-06P"
      },
      "execution_count": null,
      "outputs": []
    }
  ]
}