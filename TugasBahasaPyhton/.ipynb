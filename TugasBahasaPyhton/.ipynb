{
  "nbformat": 4,
  "nbformat_minor": 0,
  "metadata": {
    "colab": {
      "provenance": [],
      "authorship_tag": "ABX9TyNRRQ+Ydztut1UffDACwQ/y",
      "include_colab_link": true
    },
    "kernelspec": {
      "name": "python3",
      "display_name": "Python 3"
    },
    "language_info": {
      "name": "python"
    }
  },
  "cells": [
    {
      "cell_type": "markdown",
      "metadata": {
        "id": "view-in-github",
        "colab_type": "text"
      },
      "source": [
        "<a href=\"https://colab.research.google.com/github/SALMAN170807/Salman-Ardian-Arkaan-6725600008-Sistem-Informasi/blob/main/TugasBahasaPyhton/.ipynb\" target=\"_parent\"><img src=\"https://colab.research.google.com/assets/colab-badge.svg\" alt=\"Open In Colab\"/></a>"
      ]
    },
    {
      "cell_type": "code",
      "execution_count": 1,
      "metadata": {
        "colab": {
          "base_uri": "https://localhost:8080/"
        },
        "id": "fIfyAZVKgz9Y",
        "outputId": "e5c7efab-04a0-4698-b73a-a81f8ef39b34"
      },
      "outputs": [
        {
          "output_type": "stream",
          "name": "stdout",
          "text": [
            "Masukkan nama Anda: salman\n",
            "Masukkan umur Anda: 18\n",
            "Masukkan hobi Anda: Memancing\n",
            "\n",
            "=== Hasil Input ===\n",
            "Nama Anda adalah: salman\n",
            "Umur Anda: 18 tahun\n",
            "Hobi Anda: Memancing\n"
          ]
        }
      ],
      "source": [
        "# Program Input-Output Sederhana\n",
        "\n",
        "# Meminta input dari pengguna\n",
        "nama = input(\"Masukkan nama Anda: \")\n",
        "umur = input(\"Masukkan umur Anda: \")\n",
        "hobi = input(\"Masukkan hobi Anda: \")\n",
        "\n",
        "# Menampilkan hasil\n",
        "print(\"\\n=== Hasil Input ===\")\n",
        "print(\"Nama Anda adalah:\", nama)\n",
        "print(\"Umur Anda:\", umur, \"tahun\")\n",
        "print(\"Hobi Anda:\", hobi)"
      ]
    }
  ]
}