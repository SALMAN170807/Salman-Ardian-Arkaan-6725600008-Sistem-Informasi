{
  "nbformat": 4,
  "nbformat_minor": 0,
  "metadata": {
    "colab": {
      "provenance": [],
      "authorship_tag": "ABX9TyOA7taB4S/eDuGE7zhL5eSd",
      "include_colab_link": true
    },
    "kernelspec": {
      "name": "python3",
      "display_name": "Python 3"
    },
    "language_info": {
      "name": "python"
    }
  },
  "cells": [
    {
      "cell_type": "markdown",
      "metadata": {
        "id": "view-in-github",
        "colab_type": "text"
      },
      "source": [
        "<a href=\"https://colab.research.google.com/github/SALMAN170807/Salman-Ardian-Arkaan-6725600008-Sistem-Informasi/blob/main/DasarPemograman.ipynb\" target=\"_parent\"><img src=\"https://colab.research.google.com/assets/colab-badge.svg\" alt=\"Open In Colab\"/></a>"
      ]
    },
    {
      "cell_type": "code",
      "execution_count": null,
      "metadata": {
        "colab": {
          "base_uri": "https://localhost:8080/"
        },
        "id": "OyrzMHEb-YC4",
        "outputId": "bca91bf5-cf75-426f-db6b-17fe14235378"
      },
      "outputs": [
        {
          "output_type": "stream",
          "name": "stdout",
          "text": [
            "Masukkan bilangan pertama: 1\n",
            "Masukkan bilangan kedua: 2\n",
            "Hasil penjumlahan dari 1.0 + 2.0 adalah: 3.0\n"
          ]
        }
      ],
      "source": [
        "# Program Penjumlahan Dua Bilangan\n",
        "\n",
        "# Meminta input dari pengguna\n",
        "bilangan1 = float(input(\"Masukkan bilangan pertama: \"))\n",
        "bilangan2 = float(input(\"Masukkan bilangan kedua: \"))\n",
        "\n",
        "# Menjumlahkan kedua bilangan\n",
        "hasil = bilangan1 + bilangan2\n",
        "\n",
        "# Menampilkan hasil\n",
        "print(\"Hasil penjumlahan dari\", bilangan1, \"+\", bilangan2, \"adalah:\", hasil)\n"
      ]
    },
    {
      "cell_type": "code",
      "source": [
        "# Program Mengecek Kecukupan Umur\n",
        "\n",
        "# Meminta input dari pengguna\n",
        "nama = input(\"Masukkan nama anda: \")\n",
        "umur = int(input(\"Masukkan umur anda: \"))\n",
        "\n",
        "# Mengecek apakah cukup umur\n",
        "if umur >= 18:\n",
        "    print(\"Halo\", nama + \"!\", \"Anda sudah cukup umur. ✅\")\n",
        "else:\n",
        "    print(\"Halo\", nama + \"!\", \"Anda belum cukup umur. ❌\")"
      ],
      "metadata": {
        "colab": {
          "base_uri": "https://localhost:8080/"
        },
        "id": "ZyQ8iKG8-nOj",
        "outputId": "c370693c-c497-4b39-fef5-4ac45879a2e3"
      },
      "execution_count": null,
      "outputs": [
        {
          "output_type": "stream",
          "name": "stdout",
          "text": [
            "Masukkan nama anda: salman\n",
            "Masukkan umur anda: 18\n",
            "Halo salman! Anda sudah cukup umur. ✅\n"
          ]
        }
      ]
    },
    {
      "cell_type": "code",
      "source": [
        "# Program Menghitung Luas dan Keliling Persegi Panjang\n",
        "\n",
        "# Meminta input dari pengguna\n",
        "panjang = float(input(\"Masukkan panjang persegi panjang: \"))\n",
        "lebar = float(input(\"Masukkan lebar persegi panjang: \"))\n",
        "\n",
        "# Menghitung luas dan keliling\n",
        "luas = panjang * lebar\n",
        "keliling = 2 * (panjang + lebar)\n",
        "\n",
        "# Menampilkan hasil\n",
        "print(\"Luas persegi panjang adalah:\", luas)\n",
        "print(\"Keliling persegi panjang adalah:\", keliling)\n",
        "2"
      ],
      "metadata": {
        "colab": {
          "base_uri": "https://localhost:8080/"
        },
        "id": "Z1Ovk-51-06P",
        "outputId": "4441d89b-d76f-4c50-9eae-279527ddfe62"
      },
      "execution_count": null,
      "outputs": [
        {
          "output_type": "stream",
          "name": "stdout",
          "text": [
            "Masukkan panjang persegi panjang: 10\n",
            "Masukkan lebar persegi panjang: 12\n",
            "Luas persegi panjang adalah: 120.0\n",
            "Keliling persegi panjang adalah: 44.0\n"
          ]
        }
      ]
    }
  ]
}