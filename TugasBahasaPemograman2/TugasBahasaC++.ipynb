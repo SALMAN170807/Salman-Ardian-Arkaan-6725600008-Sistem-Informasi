{
  "nbformat": 4,
  "nbformat_minor": 0,
  "metadata": {
    "colab": {
      "provenance": [],
      "authorship_tag": "ABX9TyMXpsWsWQkNv1nzBrAVhtXl",
      "include_colab_link": true
    },
    "kernelspec": {
      "name": "python3",
      "display_name": "Python 3"
    },
    "language_info": {
      "name": "python"
    }
  },
  "cells": [
    {
      "cell_type": "markdown",
      "metadata": {
        "id": "view-in-github",
        "colab_type": "text"
      },
      "source": [
        "<a href=\"https://colab.research.google.com/github/SALMAN170807/Salman-Ardian-Arkaan-6725600008-Sistem-Informasi/blob/main/TugasBahasaPemograman2/TugasBahasaC%2B%2B.ipynb\" target=\"_parent\"><img src=\"https://colab.research.google.com/assets/colab-badge.svg\" alt=\"Open In Colab\"/></a>"
      ]
    },
    {
      "cell_type": "code",
      "metadata": {
        "colab": {
          "base_uri": "https://localhost:8080/"
        },
        "id": "d9fd98e1",
        "outputId": "50885f25-7ccb-4635-bac5-a93a8def45e1"
      },
      "source": [
        "%%writefile main.cpp\n",
        "#include <iostream>\n",
        "#include <string>  // untuk tipe data string\n",
        "using namespace std;\n",
        "\n",
        "int main() {\n",
        "    string nama;\n",
        "    int umur;\n",
        "    string hobi;\n",
        "\n",
        "    // Input\n",
        "    cout << \"Masukkan nama Anda: \";\n",
        "    getline(cin, nama);  // gunakan getline agar bisa membaca spasi\n",
        "\n",
        "    cout << \"Masukkan umur Anda: \";\n",
        "    cin >> umur;\n",
        "    cin.ignore(); // menghapus karakter newline di buffer\n",
        "\n",
        "    cout << \"Masukkan hobi Anda: \";\n",
        "    getline(cin, hobi);\n",
        "\n",
        "    // Output\n",
        "    cout << \"\\n=== Data Anda ===\" << endl;\n",
        "    cout << \"Nama : \" << nama << endl;\n",
        "    cout << \"Umur : \" << umur << \" tahun\" << endl;\n",
        "    cout << \"Hobi : \" << hobi << endl;\n",
        "\n",
        "    return 0;\n",
        "}"
      ],
      "execution_count": 7,
      "outputs": [
        {
          "output_type": "stream",
          "name": "stdout",
          "text": [
            "Overwriting main.cpp\n"
          ]
        }
      ]
    },
    {
      "cell_type": "code",
      "source": [
        "%%shell\n",
        "g++ main.cpp -o main\n",
        "./main"
      ],
      "metadata": {
        "colab": {
          "base_uri": "https://localhost:8080/"
        },
        "id": "jGnSYfQGwBHD",
        "outputId": "3c2b87de-9f2d-4de8-889f-793a9e3be1cd"
      },
      "execution_count": 8,
      "outputs": [
        {
          "output_type": "stream",
          "name": "stdout",
          "text": [
            "Masukkan nama Anda: salman\n",
            "Masukkan umur Anda: 18\n",
            "Masukkan hobi Anda: memancing\n",
            "\n",
            "=== Data Anda ===\n",
            "Nama : salman\n",
            "Umur : 18 tahun\n",
            "Hobi : memancing\n"
          ]
        },
        {
          "output_type": "execute_result",
          "data": {
            "text/plain": []
          },
          "metadata": {},
          "execution_count": 8
        }
      ]
    }
  ]
}